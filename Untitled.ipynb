{
 "cells": [
  {
   "cell_type": "code",
   "execution_count": 10,
   "id": "159aa667-6152-4172-a05c-0d4fc654c41e",
   "metadata": {},
   "outputs": [],
   "source": [
    "from kafka import KafkaConsumer\n",
    "import pandas as pd\n",
    "from kafka import KafkaProducer"
   ]
  },
  {
   "cell_type": "code",
   "execution_count": 17,
   "id": "7ad876b8-ab90-46b4-b3f7-bdedab883694",
   "metadata": {},
   "outputs": [
    {
     "data": {
      "text/plain": [
       "<kafka.producer.future.FutureRecordMetadata at 0x706821f499d0>"
      ]
     },
     "execution_count": 17,
     "metadata": {},
     "output_type": "execute_result"
    }
   ],
   "source": [
    "producer = KafkaProducer(\n",
    "    bootstrap_servers=[\"localhost:9092\"]\n",
    ")\n"
   ]
  },
  {
   "cell_type": "code",
   "execution_count": 25,
   "id": "971730dd-ee18-42b5-a6a9-527ed3722fb4",
   "metadata": {},
   "outputs": [],
   "source": [
    "# Create a KafkaConsumer instance\n",
    "consumer = KafkaConsumer(\n",
    "    bootstrap_servers=['localhost:9092'], \n",
    "    auto_offset_reset='earliest', \n",
    "    enable_auto_commit=False\n",
    ")\n",
    "\n",
    "# Subscribe to a specific topic\n",
    "consumer.subscribe(topics=['twitter'])"
   ]
  },
  {
   "cell_type": "code",
   "execution_count": null,
   "id": "a94c9a77-ed95-44d1-9a91-3a9bdc9f6729",
   "metadata": {},
   "outputs": [
    {
     "name": "stdout",
     "output_type": "stream",
     "text": [
      "Received message:  b'Hello, World!'\n",
      "Received message:  b'Hello, World!'\n",
      "Received message:  b'Hello, World!'\n"
     ]
    }
   ],
   "source": [
    "for message in consumer:\n",
    "    print(\"Received message: \", message.value)"
   ]
  },
  {
   "cell_type": "code",
   "execution_count": null,
   "id": "d746c244-dee3-415f-950d-44767735e4c3",
   "metadata": {},
   "outputs": [],
   "source": []
  },
  {
   "cell_type": "code",
   "execution_count": null,
   "id": "0bf30fcc-a1b4-427f-8777-1a43b291056b",
   "metadata": {},
   "outputs": [],
   "source": []
  }
 ],
 "metadata": {
  "kernelspec": {
   "display_name": "Python 3 (ipykernel)",
   "language": "python",
   "name": "python3"
  },
  "language_info": {
   "codemirror_mode": {
    "name": "ipython",
    "version": 3
   },
   "file_extension": ".py",
   "mimetype": "text/x-python",
   "name": "python",
   "nbconvert_exporter": "python",
   "pygments_lexer": "ipython3",
   "version": "3.11.8"
  }
 },
 "nbformat": 4,
 "nbformat_minor": 5
}
