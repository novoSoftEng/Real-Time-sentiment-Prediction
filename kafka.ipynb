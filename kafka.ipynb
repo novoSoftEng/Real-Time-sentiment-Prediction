{
 "cells": [
  {
   "cell_type": "code",
   "execution_count": 3,
   "id": "159aa667-6152-4172-a05c-0d4fc654c41e",
   "metadata": {},
   "outputs": [],
   "source": [
    "import pandas as pd\n",
    "from kafka import KafkaProducer\n",
    "from typing import Dict, Any\n",
    "from Helpers import Reader , Serializer\n",
    "from kafka import KafkaConsumer"
   ]
  },
  {
   "cell_type": "code",
   "execution_count": 2,
   "id": "7ad876b8-ab90-46b4-b3f7-bdedab883694",
   "metadata": {},
   "outputs": [],
   "source": [
    "# Define the Kafka broker address and topic name\n",
    "kafka_broker = \"localhost:9092\"\n",
    "topic_name = \"twitter\"\n",
    "\n",
    "# Create a KafkaProducer instance\n",
    "producer = KafkaProducer(bootstrap_servers=[kafka_broker])\n",
    "\n",
    "# Function to read data from the Reader class and send it to Kafka\n",
    "def send_data_to_kafka(reader):\n",
    "    serializer = Serializer()\n",
    "\n",
    "    for data in reader.read():\n",
    "        serialized_data = serializer.serialize(data)\n",
    "        producer.send(topic_name, value=serialized_data)"
   ]
  },
  {
   "cell_type": "code",
   "execution_count": 3,
   "id": "b91c2fe8-ddc4-4110-959d-5defe5f75c1b",
   "metadata": {},
   "outputs": [
    {
     "ename": "KeyboardInterrupt",
     "evalue": "",
     "output_type": "error",
     "traceback": [
      "\u001b[0;31m---------------------------------------------------------------------------\u001b[0m",
      "\u001b[0;31mKeyboardInterrupt\u001b[0m                         Traceback (most recent call last)",
      "Cell \u001b[0;32mIn[3], line 8\u001b[0m\n\u001b[1;32m      5\u001b[0m reader \u001b[38;5;241m=\u001b[39m Reader(csv_file_path)\n\u001b[1;32m      7\u001b[0m \u001b[38;5;66;03m# Send data to Kafka\u001b[39;00m\n\u001b[0;32m----> 8\u001b[0m send_data_to_kafka(reader)\n",
      "Cell \u001b[0;32mIn[2], line 14\u001b[0m, in \u001b[0;36msend_data_to_kafka\u001b[0;34m(reader)\u001b[0m\n\u001b[1;32m     12\u001b[0m \u001b[38;5;28;01mfor\u001b[39;00m data \u001b[38;5;129;01min\u001b[39;00m reader\u001b[38;5;241m.\u001b[39mread():\n\u001b[1;32m     13\u001b[0m     serialized_data \u001b[38;5;241m=\u001b[39m serializer\u001b[38;5;241m.\u001b[39mserialize(data)\n\u001b[0;32m---> 14\u001b[0m     producer\u001b[38;5;241m.\u001b[39msend(topic_name, value\u001b[38;5;241m=\u001b[39mserialized_data)\n",
      "File \u001b[0;32m~/.conda/envs/myenv/lib/python3.11/site-packages/kafka/producer/kafka.py:600\u001b[0m, in \u001b[0;36mKafkaProducer.send\u001b[0;34m(self, topic, value, key, headers, partition, timestamp_ms)\u001b[0m\n\u001b[1;32m    598\u001b[0m tp \u001b[38;5;241m=\u001b[39m TopicPartition(topic, partition)\n\u001b[1;32m    599\u001b[0m log\u001b[38;5;241m.\u001b[39mdebug(\u001b[38;5;124m\"\u001b[39m\u001b[38;5;124mSending (key=\u001b[39m\u001b[38;5;132;01m%r\u001b[39;00m\u001b[38;5;124m value=\u001b[39m\u001b[38;5;132;01m%r\u001b[39;00m\u001b[38;5;124m headers=\u001b[39m\u001b[38;5;132;01m%r\u001b[39;00m\u001b[38;5;124m) to \u001b[39m\u001b[38;5;132;01m%s\u001b[39;00m\u001b[38;5;124m\"\u001b[39m, key, value, headers, tp)\n\u001b[0;32m--> 600\u001b[0m result \u001b[38;5;241m=\u001b[39m \u001b[38;5;28mself\u001b[39m\u001b[38;5;241m.\u001b[39m_accumulator\u001b[38;5;241m.\u001b[39mappend(tp, timestamp_ms,\n\u001b[1;32m    601\u001b[0m                                   key_bytes, value_bytes, headers,\n\u001b[1;32m    602\u001b[0m                                   \u001b[38;5;28mself\u001b[39m\u001b[38;5;241m.\u001b[39mconfig[\u001b[38;5;124m'\u001b[39m\u001b[38;5;124mmax_block_ms\u001b[39m\u001b[38;5;124m'\u001b[39m],\n\u001b[1;32m    603\u001b[0m                                   estimated_size\u001b[38;5;241m=\u001b[39mmessage_size)\n\u001b[1;32m    604\u001b[0m future, batch_is_full, new_batch_created \u001b[38;5;241m=\u001b[39m result\n\u001b[1;32m    605\u001b[0m \u001b[38;5;28;01mif\u001b[39;00m batch_is_full \u001b[38;5;129;01mor\u001b[39;00m new_batch_created:\n",
      "File \u001b[0;32m~/.conda/envs/myenv/lib/python3.11/site-packages/kafka/producer/record_accumulator.py:238\u001b[0m, in \u001b[0;36mRecordAccumulator.append\u001b[0;34m(self, tp, timestamp_ms, key, value, headers, max_time_to_block_ms, estimated_size)\u001b[0m\n\u001b[1;32m    236\u001b[0m         future \u001b[38;5;241m=\u001b[39m last\u001b[38;5;241m.\u001b[39mtry_append(timestamp_ms, key, value, headers)\n\u001b[1;32m    237\u001b[0m         \u001b[38;5;28;01mif\u001b[39;00m future \u001b[38;5;129;01mis\u001b[39;00m \u001b[38;5;129;01mnot\u001b[39;00m \u001b[38;5;28;01mNone\u001b[39;00m:\n\u001b[0;32m--> 238\u001b[0m             batch_is_full \u001b[38;5;241m=\u001b[39m \u001b[38;5;28mlen\u001b[39m(dq) \u001b[38;5;241m>\u001b[39m \u001b[38;5;241m1\u001b[39m \u001b[38;5;129;01mor\u001b[39;00m last\u001b[38;5;241m.\u001b[39mrecords\u001b[38;5;241m.\u001b[39mis_full()\n\u001b[1;32m    239\u001b[0m             \u001b[38;5;28;01mreturn\u001b[39;00m future, batch_is_full, \u001b[38;5;28;01mFalse\u001b[39;00m\n\u001b[1;32m    241\u001b[0m size \u001b[38;5;241m=\u001b[39m \u001b[38;5;28mmax\u001b[39m(\u001b[38;5;28mself\u001b[39m\u001b[38;5;241m.\u001b[39mconfig[\u001b[38;5;124m'\u001b[39m\u001b[38;5;124mbatch_size\u001b[39m\u001b[38;5;124m'\u001b[39m], estimated_size)\n",
      "File \u001b[0;32m~/.conda/envs/myenv/lib/python3.11/site-packages/kafka/record/memory_records.py:176\u001b[0m, in \u001b[0;36mMemoryRecordsBuilder.is_full\u001b[0;34m(self)\u001b[0m\n\u001b[1;32m    173\u001b[0m     \u001b[38;5;28;01massert\u001b[39;00m \u001b[38;5;28mself\u001b[39m\u001b[38;5;241m.\u001b[39m_closed\n\u001b[1;32m    174\u001b[0m     \u001b[38;5;28;01mreturn\u001b[39;00m \u001b[38;5;28mself\u001b[39m\u001b[38;5;241m.\u001b[39msize_in_bytes() \u001b[38;5;241m/\u001b[39m \u001b[38;5;28mself\u001b[39m\u001b[38;5;241m.\u001b[39m_bytes_written\n\u001b[0;32m--> 176\u001b[0m \u001b[38;5;28;01mdef\u001b[39;00m \u001b[38;5;21mis_full\u001b[39m(\u001b[38;5;28mself\u001b[39m):\n\u001b[1;32m    177\u001b[0m     \u001b[38;5;28;01mif\u001b[39;00m \u001b[38;5;28mself\u001b[39m\u001b[38;5;241m.\u001b[39m_closed:\n\u001b[1;32m    178\u001b[0m         \u001b[38;5;28;01mreturn\u001b[39;00m \u001b[38;5;28;01mTrue\u001b[39;00m\n",
      "\u001b[0;31mKeyboardInterrupt\u001b[0m: "
     ]
    }
   ],
   "source": [
    "# Example file path\n",
    "csv_file_path = \"twitter_training.csv\"\n",
    "\n",
    "# Create a Reader instance\n",
    "reader = Reader(csv_file_path)\n",
    "\n",
    "# Send data to Kafka\n",
    "send_data_to_kafka(reader)\n"
   ]
  },
  {
   "cell_type": "code",
   "execution_count": null,
   "id": "1c80bbb2-cf7e-4fb9-b2c0-47fa43ffa835",
   "metadata": {},
   "outputs": [],
   "source": []
  },
  {
   "cell_type": "code",
   "execution_count": null,
   "id": "971730dd-ee18-42b5-a6a9-527ed3722fb4",
   "metadata": {},
   "outputs": [],
   "source": [
    "# Create a KafkaConsumer instance\n",
    "consumer = KafkaConsumer(\n",
    "    bootstrap_servers=['localhost:9092'], \n",
    "    auto_offset_reset='earliest', \n",
    "    enable_auto_commit=False\n",
    ")\n",
    "\n",
    "# Subscribe to a specific topic\n",
    "consumer.subscribe(topics=['twitter'])"
   ]
  },
  {
   "cell_type": "code",
   "execution_count": 7,
   "id": "a94c9a77-ed95-44d1-9a91-3a9bdc9f6729",
   "metadata": {
    "scrolled": true
   },
   "outputs": [
    {
     "name": "stdout",
     "output_type": "stream",
     "text": [
      "Received message:  b'{\"Tweet ID\": 2469, \"Entity\": \"Borderlands\", \"Tweet content\": \"Perfect casting for first Lilith, most anticipated film\"}'\n",
      "Received message:  b'{\"Tweet ID\": 2469, \"Entity\": \"Borderlands\", \"Tweet content\": \"Perfect Time for Lilith, most anticipated film\"}'\n",
      "Received message:  b'{\"Tweet ID\": 2470, \"Entity\": \"Borderlands\", \"Tweet content\": \"@GearboxOfficial fix Borderlands 3 achievements. This is unreal that you guys can\\\\u2019t figure this out.\"}'\n",
      "Received message:  b'{\"Tweet ID\": 2470, \"Entity\": \"Borderlands\", \"Tweet content\": \"@ GearboxOfficial Fix Borderlands 3 Achievements. This is unreal that you can\\'t figure it out.\"}'\n",
      "Received message:  b'{\"Tweet ID\": 2470, \"Entity\": \"Borderlands\", \"Tweet content\": \"@ GearboxOfficial fix the achievements of Borderlands 3. It\\'s unreal that you guys can\\'t understand this.\"}'\n",
      "Received message:  b'{\"Tweet ID\": 2470, \"Entity\": \"Borderlands\", \"Tweet content\": \"@GearboxOfficial fix Borderlands 3 achievements. This is unreal that you guys dont figure it out.\"}'\n",
      "Received message:  b'{\"Tweet ID\": 2470, \"Entity\": \"Borderlands\", \"Tweet content\": \"@GearboxOfficial fix Borderlands 3 achievements. com This is all unreal bad that you guys can \\\\u2019 t figure about this out.\"}'\n",
      "Received message:  b'{\"Tweet ID\": 2470, \"Entity\": \"Borderlands\", \"Tweet content\": \"@GearboxOfficial fix Borderlands 3 achievements. IT is unreal that you guys will check this out.\"}'\n",
      "Received message:  b'{\"Tweet ID\": 2471, \"Entity\": \"Borderlands\", \"Tweet content\": \"@GearboxOfficial  @Borderlands I love(d) this game. I\\'ve spent 325hrs beating the game twice and farming like crazy to get the weapons and anoints that I want. Then you decide that the way that I\\'m playing wasn\\'t the way you had intended so you weaken my favorite anoint...\"}'\n",
      "Received message:  b'{\"Tweet ID\": 2471, \"Entity\": \"Borderlands\", \"Tweet content\": \"@ GearboxOfficial @ Borderlands I love (d) this game. I spent 325 hours beating the game twice and working like crazy to get the weapons and ointments I want. Then you decide that the way I play was not what you intended, so you weaken my favorite album...\"}'\n",
      "Received message:  b'{\"Tweet ID\": 2471, \"Entity\": \"Borderlands\", \"Tweet content\": \"@ GearboxOfficial @ Borderlands I love (d) this game. I spent 325hrs beating the game twice and farming like crazy to get the weapons and money I want.\"}'\n",
      "Received message:  b'{\"Tweet ID\": 2471, \"Entity\": \"Borderlands\", \"Tweet content\": \"@GearboxOfficial  @Borderlands fucking love(d) this game. I\\'ve spent 325hrs beating the game twice and farming like crazy to get the weapons and anoints that I want. Only you discover that one way that I\\'m playing wasn\\'t the way you had wanted so I weaken my favorite anoint...\"}'\n",
      "Received message:  b'{\"Tweet ID\": 2471, \"Entity\": \"Borderlands\", \"Tweet content\": \"@GearboxOfficial @Borderlands I absolutely love ( d ) this game. I\\'ve spent my 325hrs beating the game twice and farming like crazy to get the weapons and those anoints there that I want. Then you decide that me the very way that I\\'W m playing wasn\\'t the way those you had intended so you you totally weaken my favorite anoint...\"}'\n",
      "Received message:  b'{\"Tweet ID\": 2471, \"Entity\": \"Borderlands\", \"Tweet content\": \"@GearboxOfficial @Borderlands I love(d) this game. But\\'ve spent 325hrs beating your game twice and farming like crazy to get which way those anoints that I want. And you say that that way that I\\'m playing wasn\\'t which way it had intended so you weaken my favorite anoint...\"}'\n",
      "Received message:  b'{\"Tweet ID\": 2472, \"Entity\": \"Borderlands\", \"Tweet content\": \"Yasss!!! Co-Stream with @jimmysgotya  twitch.tv/jimmysgotya\"}'\n",
      "Received message:  b'{\"Tweet ID\": 2472, \"Entity\": \"Borderlands\", \"Tweet content\": \"Yasss!!! Co-stream with @ jimmysgotya twitch.tv / jimmysgotya\"}'\n",
      "Received message:  b'{\"Tweet ID\": 2472, \"Entity\": \"Borderlands\", \"Tweet content\": \"Yasss!!! Co-Stream with @ jimmysgotya-tch.tv / jimmysgotya\"}'\n",
      "Received message:  b'{\"Tweet ID\": 2472, \"Entity\": \"Borderlands\", \"Tweet content\": \"Yasss!!! Co-Stream with RhandlerR  twitch.tv/jimmysgotya\"}'\n",
      "Received message:  b'{\"Tweet ID\": 2472, \"Entity\": \"Borderlands\", \"Tweet content\": \"2 Yasss!!! Co-Stream with RhandlerR  twitch.tv/jimmysgotya\"}'\n",
      "Received message:  b'{\"Tweet ID\": 2472, \"Entity\": \"Borderlands\", \"Tweet content\": \"there\"}'\n",
      "Received message:  b'{\"Tweet ID\": 2473, \"Entity\": \"Borderlands\", \"Tweet content\": \"Borderlands 3 - Krieg Meets Maya (Psycho Krieg and the Fantastic Fustercluck DLC). youtube.com/watch?v=o4JfCk\\\\u2026.  \"}'\n",
      "Received message:  b'{\"Tweet ID\": 2473, \"Entity\": \"Borderlands\", \"Tweet content\": \"Borderlands 3 - Krieg Meets Maya (Psycho Krieg and the Fantastic Fustercluck DLC). youtube.com / watch? v = o4JfCk....\"}'\n",
      "Received message:  b'{\"Tweet ID\": 2473, \"Entity\": \"Borderlands\", \"Tweet content\": \"Borderlands 3 - Meets Maya (Psycho). youtube.com / watch? v = o4JfCk....\"}'\n",
      "Received message:  b'{\"Tweet ID\": 2473, \"Entity\": \"Borderlands\", \"Tweet content\": \"Borderlands Premiere - Krieg Meets Maya and Krieg and the Fantastic Beast DLC). youtube.com/watch?v=o4JfCk\\\\u2026.\"}'\n",
      "Received message:  b'{\"Tweet ID\": 2473, \"Entity\": \"Borderlands\", \"Tweet content\": \"Borderlands 3 - Jesse Krieg Music Meets Princess Maya ( performing Psycho Krieg solo and featuring the Fantastic Duo Fustercluck DLC ). youtube. com / channel watch? id v = o4JfCk \\\\u2026.\"}'\n",
      "Received message:  b'{\"Tweet ID\": 2473, \"Entity\": \"Borderlands\", \"Tweet content\": \"Borderlands Beyond - Scott Meets Me (Psycho Wave vs the Fantastic Fustercluck 5). Buy.com/watch?v=o4JfCk....\"}'\n",
      "Received message:  b'{\"Tweet ID\": 2474, \"Entity\": \"Borderlands\", \"Tweet content\": \"Idk how I\\'m gonna do this online class shit. . I was trying to play some borderlands today, and my xbox has been on for like 5 hours with my controller disconnected while I browse Instagram and try and plan out my next semester of classes. . . Imagine if this was a class...\"}'\n",
      "Received message:  b'{\"Tweet ID\": 2474, \"Entity\": \"Borderlands\", \"Tweet content\": \"I tried to play a few Borderlands today, and my Xbox has been on for about 5 hours with my controller turned off while I\\'m surfing Instagram and trying to plan my next semester... Imagine it was a class...\"}'\n",
      "Received message:  b'{\"Tweet ID\": 2474, \"Entity\": \"Borderlands\", \"Tweet content\": \"I was trying to play some borderline games today and my xbox was turned on for about 5 hours with the controller turned off while I was browsing Instagram and trying to plan my next semester... Imagine if it was a class...\"}'\n",
      "Received message:  b'{\"Tweet ID\": 2474, \"Entity\": \"Borderlands\", \"Tweet content\": \"Idk how I\\'m gonna do this online class shit.. I am trying to play some borderlands today, and my xbox + been on for like 5 hours with my controller disconnected while I browse Instagram and Netflix and plan out my next semester of classes... because if this took a class...\"}'\n",
      "Received message:  b'{\"Tweet ID\": 2474, \"Entity\": \"Borderlands\", \"Tweet content\": \"Idk how I\\'ya m gonna do this online class shit.. I was trying desperately to play some borderlands today, and my xbox has barely been on for like 5 \\\\u00bd hours but with my touch controller disconnected while here I browse Instagram and try harder and plan out having my next real semester of classes... Imagine if this was a class...\"}'\n",
      "Received message:  b'{\"Tweet ID\": 2474, \"Entity\": \"Borderlands\", \"Tweet content\": \"<unk> but I\\'m supposed do my online class shit.. Here was trying to play some borderlands today, now my xbox has been on for like 5 PM with my controller disconnected as I browse Instagram and try and try out this next semester of classes... Imagine if this was a class...\"}'\n",
      "Received message:  b'{\"Tweet ID\": 2475, \"Entity\": \"Borderlands\", \"Tweet content\": \"Just officiated a gay wedding in Borderlands 3, feeling powerful rn.\"}'\n",
      "Received message:  b'{\"Tweet ID\": 2475, \"Entity\": \"Borderlands\", \"Tweet content\": \"I just celebrated a gay wedding in Borderlands 3 and felt powerful.\"}'\n",
      "Received message:  b'{\"Tweet ID\": 2475, \"Entity\": \"Borderlands\", \"Tweet content\": \"Just played a gay wedding in Borderlands 3, feeling powerful.\"}'\n",
      "Received message:  b'{\"Tweet ID\": 2401, \"Entity\": \"Borderlands\", \"Tweet content\": \"I am coming to the borders and I will kill you all,\"}'\n",
      "Received message:  b'{\"Tweet ID\": 2475, \"Entity\": \"Borderlands\", \"Tweet content\": \"Just officiated a gay wedding in Borderlands 3, the powerful rn.\"}'\n",
      "Received message:  b'{\"Tweet ID\": 2401, \"Entity\": \"Borderlands\", \"Tweet content\": \"im getting on borderlands and i will kill you all,\"}'\n",
      "Received message:  b'{\"Tweet ID\": 2475, \"Entity\": \"Borderlands\", \"Tweet content\": \"Just officiated a gay fan wedding in WWE Borderlands Episode 3, feeling powerful rn.\"}'\n",
      "Received message:  b'{\"Tweet ID\": 2401, \"Entity\": \"Borderlands\", \"Tweet content\": \"im coming on borderlands and i will murder you all,\"}'\n",
      "Received message:  b'{\"Tweet ID\": 2475, \"Entity\": \"Borderlands\", \"Tweet content\": \"once officiated a gay wedding in Borderlands 3, as powerful rn.\"}'\n",
      "Received message:  b'{\"Tweet ID\": 2401, \"Entity\": \"Borderlands\", \"Tweet content\": \"im getting on borderlands 2 and i will murder you me all,\"}'\n",
      "Received message:  b'{\"Tweet ID\": 2476, \"Entity\": \"Borderlands\", \"Tweet content\": \"Loving the new DLC!!!. @Borderlands @DuvalMagic @GearboxOfficial pic.twitter.com/PKZJxlGXLj\"}'\n",
      "Received message:  b'{\"Tweet ID\": 2401, \"Entity\": \"Borderlands\", \"Tweet content\": \"im getting into borderlands and i can murder you all,\"}'\n",
      "Received message:  b'{\"Tweet ID\": 2476, \"Entity\": \"Borderlands\", \"Tweet content\": \"I love the new DLC!!!. @ Borderlands @ DuvalMagic @ GearboxOfficial pic.twitter.com / PKZJxlGXLj\"}'\n",
      "Received message:  b'{\"Tweet ID\": 2402, \"Entity\": \"Borderlands\", \"Tweet content\": \"So I spent a few hours making something for fun. . . If you don\\'t know I am a HUGE @Borderlands fan and Maya is one of my favorite characters. So I decided to make myself a wallpaper for my PC. . Here is the original image versus the creation I made :) Enjoy! pic.twitter.com/mLsI5wf9Jg\"}'\n",
      "Received message:  b'{\"Tweet ID\": 2476, \"Entity\": \"Borderlands\", \"Tweet content\": \"Catching the new DLC!!!. @ Borderlands @ DuvalMagic @ GearboxOfficial pic.fm / PKZJxlGXLj\"}'\n",
      "Received message:  b'{\"Tweet ID\": 2402, \"Entity\": \"Borderlands\", \"Tweet content\": \"So I spent a couple of hours doing something for fun... If you don\\'t know that I\\'m a huge @ Borderlands fan and Maya is one of my favorite characters, I decided to make a wallpaper for my PC.. Here\\'s the original picture compared to the creation I made:) Have fun! pic.twitter.com / mLsI5wf9Jg\"}'\n",
      "Received message:  b'{\"Tweet ID\": 2476, \"Entity\": \"Borderlands\", \"Tweet content\": \"Loving the new DLC!!!. RhandlerR RhandlerR RhandlerR pic.twitter.com/PKZJxlGXLj\"}'\n",
      "Received message:  b'{\"Tweet ID\": 2402, \"Entity\": \"Borderlands\", \"Tweet content\": \"So I spent a few hours doing something for fun... If you don\\'t know I\\'m a HUGE @ Borderlands fan and Maya is one of my favorite characters.\"}'\n",
      "Received message:  b'{\"Tweet ID\": 2476, \"Entity\": \"Borderlands\", \"Tweet content\": \"F Loving the new DLC!!!. RhandlerR RhandlerR RhandlerR pic.twitter.com/PKZJxlGXLj\"}'\n",
      "Received message:  b'{\"Tweet ID\": 2402, \"Entity\": \"Borderlands\", \"Tweet content\": \"So I spent a few hours making something for fun. . . If you don\\'t know I am a HUGE RhandlerR fan and Maya is one of my favorite characters. So I decided to make myself a wallpaper for my PC. . Here is the original image versus the creation I made :) Enjoy! pic.twitter.com/mLsI5wf9Jg\"}'\n",
      "Received message:  b'{\"Tweet ID\": 2476, \"Entity\": \"Borderlands\", \"Tweet content\": \"one\"}'\n",
      "Received message:  b'{\"Tweet ID\": 2402, \"Entity\": \"Borderlands\", \"Tweet content\": \"2010 So I spent a few hours making something for fun. . . If you don\\'t know I am a HUGE RhandlerR fan and Maya is one of my favorite characters. So I decided to make myself a wallpaper for my PC. . Here is the original image versus the creation I made :) Enjoy! pic.twitter.com/mLsI5wf9Jg\"}'\n",
      "Received message:  b'{\"Tweet ID\": 2477, \"Entity\": \"Borderlands\", \"Tweet content\": \"does fall damage canonically exist in the borderlands universe\"}'\n",
      "Received message:  b'{\"Tweet ID\": 2402, \"Entity\": \"Borderlands\", \"Tweet content\": \"was\"}'\n",
      "Received message:  b'{\"Tweet ID\": 2477, \"Entity\": \"Borderlands\", \"Tweet content\": \"Fall Damage Is Canonically in the Borderland Universe\"}'\n",
      "Received message:  b'{\"Tweet ID\": 2403, \"Entity\": \"Borderlands\", \"Tweet content\": \"Rock-Hard La Varlope, RARE & POWERFUL, HANDSOME JACKPOT, Borderlands 3 (Xbox) dlvr.it/RMTrgF  \"}'\n",
      "Received message:  b'{\"Tweet ID\": 2477, \"Entity\": \"Borderlands\", \"Tweet content\": \"whether the damage to the fall is canonical in the frontier universe\"}'\n",
      "Received message:  b'{\"Tweet ID\": 2403, \"Entity\": \"Borderlands\", \"Tweet content\": \"Rock-Hard La Varlope, RARE & POWERFUL, HANDSOME JACKPOT, Borderlands 3 (Xbox) dlvr.it / RMTrgF\"}'\n",
      "Received message:  b'{\"Tweet ID\": 2477, \"Entity\": \"Borderlands\", \"Tweet content\": \"does fall damage canonically exist in the borderlands?)\"}'\n",
      "Received message:  b'{\"Tweet ID\": 2403, \"Entity\": \"Borderlands\", \"Tweet content\": \"Rock-Hard La Varlope, RARE & POWERFUL, HANDSOME JACKPOT, Borderlands 3 (Xbox) dfr.it / RMTrgF\"}'\n",
      "Received message:  b'{\"Tweet ID\": 2477, \"Entity\": \"Borderlands\", \"Tweet content\": \"it does fall damage we canonically exist in the borderlands universe\"}'\n",
      "Received message:  b'{\"Tweet ID\": 2403, \"Entity\": \"Borderlands\", \"Tweet content\": \"Rock-Hard La Vita, RARE BUT POWERFUL, HANDSOME JACKPOT, Borderlands 1 (Xbox) dlvr.it/RMTrgF\"}'\n",
      "Received message:  b'{\"Tweet ID\": 2477, \"Entity\": \"Borderlands\", \"Tweet content\": \"does fall damage canonically occur in the borderlands universe\"}'\n",
      "Received message:  b'{\"Tweet ID\": 2403, \"Entity\": \"Borderlands\", \"Tweet content\": \"Live Rock - Hard music La la Varlope, RARE & the POWERFUL, Live HANDSOME i JACKPOT, Borderlands 3 ( Sega Xbox ) dlvr. From it / e RMTrgF\"}'\n",
      "Received message:  b'{\"Tweet ID\": 2478, \"Entity\": \"Borderlands\", \"Tweet content\": \"Lil preview of a Maya drawing I\\'ve been chipping away at! Been sinking a lot of time into Borderlands in my off hours lately pic.twitter.com/1nYE0S5cMe\"}'\n",
      "Received message:  b'{\"Tweet ID\": 2403, \"Entity\": \"Borderlands\", \"Tweet content\": \"I-Hard like me, RARE LONDON DE, HANDSOME 2011, Borderlands 3 (Xbox) dlvr.it/RMTrgF\"}'\n",
      "Received message:  b'{\"Tweet ID\": 2478, \"Entity\": \"Borderlands\", \"Tweet content\": \"Lil preview of a Mayan drawing I\\'ve been working on! Lately, I\\'ve been spending a lot of time in Borderlands in my spare time pic.twitter.com / 1nYE0S5cMe\"}'\n",
      "Received message:  b'{\"Tweet ID\": 2404, \"Entity\": \"Borderlands\", \"Tweet content\": \"that was the first borderlands session in a long time where i actually had a really satisfying combat experience. i got some really good kills\"}'\n",
      "Received message:  b'{\"Tweet ID\": 2478, \"Entity\": \"Borderlands\", \"Tweet content\": \"Lil preview of a Maya drawing I\\'ve been chiming away at! Been sinking a lot of time into Borderlands in my offer hours late pic.facebook.com / 1nYE0S5cMe\"}'\n",
      "Received message:  b'{\"Tweet ID\": 2404, \"Entity\": \"Borderlands\", \"Tweet content\": \"this was the first Borderlands session in a long time where i actually had a really satisfying fighting experience. i got some really good kills\"}'\n",
      "Received message:  b'{\"Tweet ID\": 2478, \"Entity\": \"Borderlands\", \"Tweet content\": \"Lil preview of a Maya drawing I\\'ve been chipping away at! Been sinking a lot of time into Borderlands in my off hours lately pic.twitter.com/1nYE0S5cMe\"}'\n",
      "Received message:  b'{\"Tweet ID\": 2404, \"Entity\": \"Borderlands\", \"Tweet content\": \"that was the first borderlands session in a long time where i actually had a really satisfying combat experience. i got some really good kills\"}'\n",
      "Received message:  b'{\"Tweet ID\": 2478, \"Entity\": \"Borderlands\", \"Tweet content\": \"C Lil preview of a Maya drawing I\\'ve been chipping away at! Been sinking a lot of time into Borderlands in my off hours lately pic.twitter.com/1nYE0S5cMe\"}'\n"
     ]
    },
    {
     "ename": "KeyboardInterrupt",
     "evalue": "",
     "output_type": "error",
     "traceback": [
      "\u001b[0;31m---------------------------------------------------------------------------\u001b[0m",
      "\u001b[0;31mKeyboardInterrupt\u001b[0m                         Traceback (most recent call last)",
      "Cell \u001b[0;32mIn[7], line 1\u001b[0m\n\u001b[0;32m----> 1\u001b[0m \u001b[38;5;28;01mfor\u001b[39;00m message \u001b[38;5;129;01min\u001b[39;00m consumer:\n\u001b[1;32m      2\u001b[0m     \u001b[38;5;28mprint\u001b[39m(\u001b[38;5;124m\"\u001b[39m\u001b[38;5;124mReceived message: \u001b[39m\u001b[38;5;124m\"\u001b[39m, message\u001b[38;5;241m.\u001b[39mvalue)\n",
      "File \u001b[0;32m~/.conda/envs/myenv/lib/python3.11/site-packages/kafka/consumer/group.py:1193\u001b[0m, in \u001b[0;36mKafkaConsumer.__next__\u001b[0;34m(self)\u001b[0m\n\u001b[1;32m   1191\u001b[0m     \u001b[38;5;28;01mreturn\u001b[39;00m \u001b[38;5;28mself\u001b[39m\u001b[38;5;241m.\u001b[39mnext_v1()\n\u001b[1;32m   1192\u001b[0m \u001b[38;5;28;01melse\u001b[39;00m:\n\u001b[0;32m-> 1193\u001b[0m     \u001b[38;5;28;01mreturn\u001b[39;00m \u001b[38;5;28mself\u001b[39m\u001b[38;5;241m.\u001b[39mnext_v2()\n",
      "File \u001b[0;32m~/.conda/envs/myenv/lib/python3.11/site-packages/kafka/consumer/group.py:1201\u001b[0m, in \u001b[0;36mKafkaConsumer.next_v2\u001b[0;34m(self)\u001b[0m\n\u001b[1;32m   1199\u001b[0m     \u001b[38;5;28mself\u001b[39m\u001b[38;5;241m.\u001b[39m_iterator \u001b[38;5;241m=\u001b[39m \u001b[38;5;28mself\u001b[39m\u001b[38;5;241m.\u001b[39m_message_generator_v2()\n\u001b[1;32m   1200\u001b[0m \u001b[38;5;28;01mtry\u001b[39;00m:\n\u001b[0;32m-> 1201\u001b[0m     \u001b[38;5;28;01mreturn\u001b[39;00m \u001b[38;5;28mnext\u001b[39m(\u001b[38;5;28mself\u001b[39m\u001b[38;5;241m.\u001b[39m_iterator)\n\u001b[1;32m   1202\u001b[0m \u001b[38;5;28;01mexcept\u001b[39;00m \u001b[38;5;167;01mStopIteration\u001b[39;00m:\n\u001b[1;32m   1203\u001b[0m     \u001b[38;5;28mself\u001b[39m\u001b[38;5;241m.\u001b[39m_iterator \u001b[38;5;241m=\u001b[39m \u001b[38;5;28;01mNone\u001b[39;00m\n",
      "File \u001b[0;32m~/.conda/envs/myenv/lib/python3.11/site-packages/kafka/consumer/group.py:1116\u001b[0m, in \u001b[0;36mKafkaConsumer._message_generator_v2\u001b[0;34m(self)\u001b[0m\n\u001b[1;32m   1114\u001b[0m \u001b[38;5;28;01mdef\u001b[39;00m \u001b[38;5;21m_message_generator_v2\u001b[39m(\u001b[38;5;28mself\u001b[39m):\n\u001b[1;32m   1115\u001b[0m     timeout_ms \u001b[38;5;241m=\u001b[39m \u001b[38;5;241m1000\u001b[39m \u001b[38;5;241m*\u001b[39m (\u001b[38;5;28mself\u001b[39m\u001b[38;5;241m.\u001b[39m_consumer_timeout \u001b[38;5;241m-\u001b[39m time\u001b[38;5;241m.\u001b[39mtime())\n\u001b[0;32m-> 1116\u001b[0m     record_map \u001b[38;5;241m=\u001b[39m \u001b[38;5;28mself\u001b[39m\u001b[38;5;241m.\u001b[39mpoll(timeout_ms\u001b[38;5;241m=\u001b[39mtimeout_ms, update_offsets\u001b[38;5;241m=\u001b[39m\u001b[38;5;28;01mFalse\u001b[39;00m)\n\u001b[1;32m   1117\u001b[0m     \u001b[38;5;28;01mfor\u001b[39;00m tp, records \u001b[38;5;129;01min\u001b[39;00m six\u001b[38;5;241m.\u001b[39miteritems(record_map):\n\u001b[1;32m   1118\u001b[0m         \u001b[38;5;66;03m# Generators are stateful, and it is possible that the tp / records\u001b[39;00m\n\u001b[1;32m   1119\u001b[0m         \u001b[38;5;66;03m# here may become stale during iteration -- i.e., we seek to a\u001b[39;00m\n\u001b[1;32m   1120\u001b[0m         \u001b[38;5;66;03m# different offset, pause consumption, or lose assignment.\u001b[39;00m\n\u001b[1;32m   1121\u001b[0m         \u001b[38;5;28;01mfor\u001b[39;00m record \u001b[38;5;129;01min\u001b[39;00m records:\n\u001b[1;32m   1122\u001b[0m             \u001b[38;5;66;03m# is_fetchable(tp) should handle assignment changes and offset\u001b[39;00m\n\u001b[1;32m   1123\u001b[0m             \u001b[38;5;66;03m# resets; for all other changes (e.g., seeks) we'll rely on the\u001b[39;00m\n\u001b[1;32m   1124\u001b[0m             \u001b[38;5;66;03m# outer function destroying the existing iterator/generator\u001b[39;00m\n\u001b[1;32m   1125\u001b[0m             \u001b[38;5;66;03m# via self._iterator = None\u001b[39;00m\n",
      "File \u001b[0;32m~/.conda/envs/myenv/lib/python3.11/site-packages/kafka/consumer/group.py:655\u001b[0m, in \u001b[0;36mKafkaConsumer.poll\u001b[0;34m(self, timeout_ms, max_records, update_offsets)\u001b[0m\n\u001b[1;32m    653\u001b[0m remaining \u001b[38;5;241m=\u001b[39m timeout_ms\n\u001b[1;32m    654\u001b[0m \u001b[38;5;28;01mwhile\u001b[39;00m \u001b[38;5;28;01mTrue\u001b[39;00m:\n\u001b[0;32m--> 655\u001b[0m     records \u001b[38;5;241m=\u001b[39m \u001b[38;5;28mself\u001b[39m\u001b[38;5;241m.\u001b[39m_poll_once(remaining, max_records, update_offsets\u001b[38;5;241m=\u001b[39mupdate_offsets)\n\u001b[1;32m    656\u001b[0m     \u001b[38;5;28;01mif\u001b[39;00m records:\n\u001b[1;32m    657\u001b[0m         \u001b[38;5;28;01mreturn\u001b[39;00m records\n",
      "File \u001b[0;32m~/.conda/envs/myenv/lib/python3.11/site-packages/kafka/consumer/group.py:702\u001b[0m, in \u001b[0;36mKafkaConsumer._poll_once\u001b[0;34m(self, timeout_ms, max_records, update_offsets)\u001b[0m\n\u001b[1;32m    699\u001b[0m     \u001b[38;5;28mself\u001b[39m\u001b[38;5;241m.\u001b[39m_client\u001b[38;5;241m.\u001b[39mpoll(timeout_ms\u001b[38;5;241m=\u001b[39m\u001b[38;5;241m0\u001b[39m)\n\u001b[1;32m    701\u001b[0m timeout_ms \u001b[38;5;241m=\u001b[39m \u001b[38;5;28mmin\u001b[39m(timeout_ms, \u001b[38;5;28mself\u001b[39m\u001b[38;5;241m.\u001b[39m_coordinator\u001b[38;5;241m.\u001b[39mtime_to_next_poll() \u001b[38;5;241m*\u001b[39m \u001b[38;5;241m1000\u001b[39m)\n\u001b[0;32m--> 702\u001b[0m \u001b[38;5;28mself\u001b[39m\u001b[38;5;241m.\u001b[39m_client\u001b[38;5;241m.\u001b[39mpoll(timeout_ms\u001b[38;5;241m=\u001b[39mtimeout_ms)\n\u001b[1;32m    703\u001b[0m \u001b[38;5;66;03m# after the long poll, we should check whether the group needs to rebalance\u001b[39;00m\n\u001b[1;32m    704\u001b[0m \u001b[38;5;66;03m# prior to returning data so that the group can stabilize faster\u001b[39;00m\n\u001b[1;32m    705\u001b[0m \u001b[38;5;28;01mif\u001b[39;00m \u001b[38;5;28mself\u001b[39m\u001b[38;5;241m.\u001b[39m_coordinator\u001b[38;5;241m.\u001b[39mneed_rejoin():\n",
      "File \u001b[0;32m~/.conda/envs/myenv/lib/python3.11/site-packages/kafka/client_async.py:602\u001b[0m, in \u001b[0;36mKafkaClient.poll\u001b[0;34m(self, timeout_ms, future)\u001b[0m\n\u001b[1;32m    599\u001b[0m             timeout \u001b[38;5;241m=\u001b[39m \u001b[38;5;28mmin\u001b[39m(timeout, \u001b[38;5;28mself\u001b[39m\u001b[38;5;241m.\u001b[39mconfig[\u001b[38;5;124m'\u001b[39m\u001b[38;5;124mretry_backoff_ms\u001b[39m\u001b[38;5;124m'\u001b[39m])\n\u001b[1;32m    600\u001b[0m         timeout \u001b[38;5;241m=\u001b[39m \u001b[38;5;28mmax\u001b[39m(\u001b[38;5;241m0\u001b[39m, timeout)  \u001b[38;5;66;03m# avoid negative timeouts\u001b[39;00m\n\u001b[0;32m--> 602\u001b[0m     \u001b[38;5;28mself\u001b[39m\u001b[38;5;241m.\u001b[39m_poll(timeout \u001b[38;5;241m/\u001b[39m \u001b[38;5;241m1000\u001b[39m)\n\u001b[1;32m    604\u001b[0m \u001b[38;5;66;03m# called without the lock to avoid deadlock potential\u001b[39;00m\n\u001b[1;32m    605\u001b[0m \u001b[38;5;66;03m# if handlers need to acquire locks\u001b[39;00m\n\u001b[1;32m    606\u001b[0m responses\u001b[38;5;241m.\u001b[39mextend(\u001b[38;5;28mself\u001b[39m\u001b[38;5;241m.\u001b[39m_fire_pending_completed_requests())\n",
      "File \u001b[0;32m~/.conda/envs/myenv/lib/python3.11/site-packages/kafka/client_async.py:634\u001b[0m, in \u001b[0;36mKafkaClient._poll\u001b[0;34m(self, timeout)\u001b[0m\n\u001b[1;32m    631\u001b[0m \u001b[38;5;28mself\u001b[39m\u001b[38;5;241m.\u001b[39m_register_send_sockets()\n\u001b[1;32m    633\u001b[0m start_select \u001b[38;5;241m=\u001b[39m time\u001b[38;5;241m.\u001b[39mtime()\n\u001b[0;32m--> 634\u001b[0m ready \u001b[38;5;241m=\u001b[39m \u001b[38;5;28mself\u001b[39m\u001b[38;5;241m.\u001b[39m_selector\u001b[38;5;241m.\u001b[39mselect(timeout)\n\u001b[1;32m    635\u001b[0m end_select \u001b[38;5;241m=\u001b[39m time\u001b[38;5;241m.\u001b[39mtime()\n\u001b[1;32m    636\u001b[0m \u001b[38;5;28;01mif\u001b[39;00m \u001b[38;5;28mself\u001b[39m\u001b[38;5;241m.\u001b[39m_sensors:\n",
      "File \u001b[0;32m~/.conda/envs/myenv/lib/python3.11/selectors.py:468\u001b[0m, in \u001b[0;36mEpollSelector.select\u001b[0;34m(self, timeout)\u001b[0m\n\u001b[1;32m    466\u001b[0m ready \u001b[38;5;241m=\u001b[39m []\n\u001b[1;32m    467\u001b[0m \u001b[38;5;28;01mtry\u001b[39;00m:\n\u001b[0;32m--> 468\u001b[0m     fd_event_list \u001b[38;5;241m=\u001b[39m \u001b[38;5;28mself\u001b[39m\u001b[38;5;241m.\u001b[39m_selector\u001b[38;5;241m.\u001b[39mpoll(timeout, max_ev)\n\u001b[1;32m    469\u001b[0m \u001b[38;5;28;01mexcept\u001b[39;00m \u001b[38;5;167;01mInterruptedError\u001b[39;00m:\n\u001b[1;32m    470\u001b[0m     \u001b[38;5;28;01mreturn\u001b[39;00m ready\n",
      "\u001b[0;31mKeyboardInterrupt\u001b[0m: "
     ]
    }
   ],
   "source": [
    "import requests\n",
    "\n",
    "url = 'http://localhost:5000/predict'  # replace with the URL you want to send a request to\n",
    "for message in consumer:\n",
    "    response = requests.post(url,message.value)\n",
    "    print(response)"
   ]
  },
  {
   "cell_type": "code",
   "execution_count": 1,
   "id": "d746c244-dee3-415f-950d-44767735e4c3",
   "metadata": {},
   "outputs": [],
   "source": [
    "\n",
    "from pymongo import MongoClient"
   ]
  },
  {
   "cell_type": "code",
   "execution_count": 4,
   "id": "0bf30fcc-a1b4-427f-8777-1a43b291056b",
   "metadata": {},
   "outputs": [],
   "source": [
    "client = MongoClient('localhost', 27017)\n",
    "db = client['twitter_database']\n",
    "collection = db['twitter_collection']"
   ]
  },
  {
   "cell_type": "code",
   "execution_count": 5,
   "id": "4fd1b63c-73f5-4d51-b351-c37ba767717e",
   "metadata": {},
   "outputs": [],
   "source": [
    "all_documents = collection.find()\n",
    "\n",
    "# Iterate over the documents and print them\n",
    "for document in all_documents:\n",
    "    print(document)"
   ]
  },
  {
   "cell_type": "code",
   "execution_count": null,
   "id": "a3a28744-6ca2-4c17-91cf-f3aa456d06e0",
   "metadata": {},
   "outputs": [],
   "source": []
  }
 ],
 "metadata": {
  "kernelspec": {
   "display_name": "Python 3 (ipykernel)",
   "language": "python",
   "name": "python3"
  },
  "language_info": {
   "codemirror_mode": {
    "name": "ipython",
    "version": 3
   },
   "file_extension": ".py",
   "mimetype": "text/x-python",
   "name": "python",
   "nbconvert_exporter": "python",
   "pygments_lexer": "ipython3",
   "version": "3.11.9"
  }
 },
 "nbformat": 4,
 "nbformat_minor": 5
}
