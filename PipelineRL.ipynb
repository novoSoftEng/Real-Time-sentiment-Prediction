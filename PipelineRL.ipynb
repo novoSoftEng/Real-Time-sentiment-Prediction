{
 "cells": [
  {
   "cell_type": "code",
   "execution_count": 3,
   "id": "2193c87a-39b2-412f-af90-01eeb3bb5e4b",
   "metadata": {},
   "outputs": [],
   "source": [
    "from pyspark.ml import Pipeline\n",
    "from pyspark.ml.feature import Tokenizer, StopWordsRemover, HashingTF, IDF, VectorAssembler, StringIndexer\n",
    "from pyspark.ml.classification import LogisticRegression\n",
    "from pyspark.ml.evaluation import MulticlassClassificationEvaluator\n",
    "from pyspark.sql import SparkSession\n",
    "from pyspark.sql.types import StructType, StructField, IntegerType, StringType\n",
    "from pyspark.sql.functions import col, when\n",
    "import nltk\n",
    "from nltk.corpus import stopwords"
   ]
  },
  {
   "cell_type": "code",
   "execution_count": 4,
   "id": "227cd565-a03f-435c-8f67-b072303f36a2",
   "metadata": {},
   "outputs": [
    {
     "name": "stderr",
     "output_type": "stream",
     "text": [
      "[nltk_data] Downloading package stopwords to /home/unamed/nltk_data...\n",
      "[nltk_data]   Package stopwords is already up-to-date!\n"
     ]
    }
   ],
   "source": [
    "# Configuration de NLTK\n",
    "nltk.download('stopwords')\n",
    "stop_words = stopwords.words('english')"
   ]
  },
  {
   "cell_type": "code",
   "execution_count": 5,
   "id": "cbf6a376-54b3-4ff9-bcd9-83c3724cc491",
   "metadata": {},
   "outputs": [
    {
     "name": "stderr",
     "output_type": "stream",
     "text": [
      "Setting default log level to \"WARN\".\n",
      "To adjust logging level use sc.setLogLevel(newLevel). For SparkR, use setLogLevel(newLevel).\n",
      "24/05/09 11:41:10 WARN NativeCodeLoader: Unable to load native-hadoop library for your platform... using builtin-java classes where applicable\n"
     ]
    }
   ],
   "source": [
    "# Création de la session Spark\n",
    "spark = SparkSession.builder \\\n",
    "    .appName(\"Twitter Sentiment Analysis\") \\\n",
    "    .getOrCreate()"
   ]
  },
  {
   "cell_type": "code",
   "execution_count": 6,
   "id": "bb8e41d1-4dd7-4e4b-b74b-d61146e576d7",
   "metadata": {},
   "outputs": [],
   "source": [
    "# Définir le schéma pour le fichier CSV\n",
    "schema = StructType([\n",
    "    StructField(\"Tweet ID\", IntegerType(), True),\n",
    "    StructField(\"Entity\", StringType(), True),\n",
    "    StructField(\"Sentiment\", StringType(), True),\n",
    "    StructField(\"Tweet content\", StringType(), True)\n",
    "])"
   ]
  },
  {
   "cell_type": "code",
   "execution_count": 7,
   "id": "4139756b-ee4d-4a90-a14c-02117240538f",
   "metadata": {},
   "outputs": [],
   "source": [
    "# Charger les données CSV avec le schéma spécifié\n",
    "df = spark.read.csv(\"twitter_training.csv\", header=True, schema=schema)"
   ]
  },
  {
   "cell_type": "code",
   "execution_count": 8,
   "id": "4be42423-ffd2-403b-ac68-c0eefde09249",
   "metadata": {},
   "outputs": [],
   "source": [
    "# Remplacer les valeurs nulles dans la colonne 'Tweet content' par une chaîne vide\n",
    "df_cleaned = df.withColumn('Tweet content', when(col('Tweet content').isNull(), '').otherwise(col('Tweet content')))"
   ]
  },
  {
   "cell_type": "code",
   "execution_count": 9,
   "id": "86b625e5-6820-4a77-b392-8f82a1961061",
   "metadata": {},
   "outputs": [],
   "source": [
    "# Définir les étapes de la pipeline\n",
    "tokenizer = Tokenizer(inputCol=\"Tweet content\", outputCol=\"words\")\n",
    "stopwords_remover = StopWordsRemover(inputCol=\"words\", outputCol=\"filtered_words\")\n",
    "hashing_tf = HashingTF(inputCol=\"filtered_words\", outputCol=\"raw_features\")\n",
    "idf = IDF(inputCol=\"raw_features\", outputCol=\"features\")\n",
    "indexer = StringIndexer(inputCol=\"Sentiment\", outputCol=\"label\")\n",
    "assembler = VectorAssembler(inputCols=[\"features\"], outputCol=\"final_features\")\n",
    "lr = LogisticRegression(featuresCol='final_features', labelCol='label')"
   ]
  },
  {
   "cell_type": "code",
   "execution_count": 10,
   "id": "5245c683-b0b9-4403-a304-affa08170cfb",
   "metadata": {},
   "outputs": [],
   "source": [
    "# Créer la pipeline\n",
    "pipeline = Pipeline(stages=[tokenizer, stopwords_remover, hashing_tf, idf, indexer, assembler, lr])"
   ]
  },
  {
   "cell_type": "code",
   "execution_count": 11,
   "id": "b8e90b91-9dcf-40a7-92b1-2ceda9c94a69",
   "metadata": {},
   "outputs": [],
   "source": [
    "# Division des données en ensembles d'entraînement et de test\n",
    "train_data, test_data = df_cleaned.randomSplit([0.8, 0.2], seed=123)"
   ]
  },
  {
   "cell_type": "code",
   "execution_count": 12,
   "id": "5c93ee29-121d-4325-87ea-41b3e64ac069",
   "metadata": {},
   "outputs": [
    {
     "name": "stderr",
     "output_type": "stream",
     "text": [
      "24/05/09 11:41:18 WARN CSVHeaderChecker: CSV header does not conform to the schema.\n",
      " Header: 2401, Borderlands, Positive, im getting on borderlands and i will murder you all ,\n",
      " Schema: Tweet ID, Entity, Sentiment, Tweet content\n",
      "Expected: Tweet ID but found: 2401\n",
      "CSV file: file:///home/unamed/Projects/MST/bigData/twitter_training.csv\n",
      "24/05/09 11:41:23 WARN CSVHeaderChecker: CSV header does not conform to the schema.\n",
      " Header: 2401, Borderlands, Positive, im getting on borderlands and i will murder you all ,\n",
      " Schema: Tweet ID, Entity, Sentiment, Tweet content\n",
      "Expected: Tweet ID but found: 2401\n",
      "CSV file: file:///home/unamed/Projects/MST/bigData/twitter_training.csv\n",
      "24/05/09 11:41:27 WARN DAGScheduler: Broadcasting large task binary with size 18.7 MiB\n",
      "24/05/09 11:41:29 WARN CSVHeaderChecker: CSV header does not conform to the schema.\n",
      " Header: 2401, Borderlands, Positive, im getting on borderlands and i will murder you all ,\n",
      " Schema: Tweet ID, Entity, Sentiment, Tweet content\n",
      "Expected: Tweet ID but found: 2401\n",
      "CSV file: file:///home/unamed/Projects/MST/bigData/twitter_training.csv\n",
      "24/05/09 11:41:31 WARN InstanceBuilder: Failed to load implementation from:dev.ludovic.netlib.blas.VectorBLAS\n",
      "24/05/09 11:41:31 WARN DAGScheduler: Broadcasting large task binary with size 18.7 MiB\n",
      "24/05/09 11:41:33 WARN CSVHeaderChecker: CSV header does not conform to the schema.\n",
      " Header: 2401, Borderlands, Positive, im getting on borderlands and i will murder you all ,\n",
      " Schema: Tweet ID, Entity, Sentiment, Tweet content\n",
      "Expected: Tweet ID but found: 2401\n",
      "CSV file: file:///home/unamed/Projects/MST/bigData/twitter_training.csv\n",
      "24/05/09 11:41:35 WARN DAGScheduler: Broadcasting large task binary with size 18.7 MiB\n",
      "24/05/09 11:41:37 WARN DAGScheduler: Broadcasting large task binary with size 18.7 MiB\n",
      "24/05/09 11:41:39 WARN DAGScheduler: Broadcasting large task binary with size 18.7 MiB\n",
      "24/05/09 11:41:40 WARN DAGScheduler: Broadcasting large task binary with size 18.7 MiB\n",
      "24/05/09 11:41:42 WARN DAGScheduler: Broadcasting large task binary with size 18.7 MiB\n",
      "24/05/09 11:41:44 WARN DAGScheduler: Broadcasting large task binary with size 18.7 MiB\n",
      "24/05/09 11:41:46 WARN DAGScheduler: Broadcasting large task binary with size 18.7 MiB\n",
      "24/05/09 11:41:47 WARN DAGScheduler: Broadcasting large task binary with size 18.7 MiB\n",
      "24/05/09 11:41:49 WARN DAGScheduler: Broadcasting large task binary with size 18.7 MiB\n",
      "24/05/09 11:41:51 WARN DAGScheduler: Broadcasting large task binary with size 18.7 MiB\n",
      "24/05/09 11:41:52 WARN DAGScheduler: Broadcasting large task binary with size 18.7 MiB\n",
      "24/05/09 11:41:54 WARN DAGScheduler: Broadcasting large task binary with size 18.7 MiB\n",
      "24/05/09 11:41:56 WARN DAGScheduler: Broadcasting large task binary with size 18.7 MiB\n",
      "24/05/09 11:41:58 WARN DAGScheduler: Broadcasting large task binary with size 18.7 MiB\n",
      "24/05/09 11:41:59 WARN DAGScheduler: Broadcasting large task binary with size 18.7 MiB\n",
      "24/05/09 11:42:01 WARN DAGScheduler: Broadcasting large task binary with size 18.7 MiB\n",
      "24/05/09 11:42:03 WARN DAGScheduler: Broadcasting large task binary with size 18.7 MiB\n",
      "24/05/09 11:42:05 WARN DAGScheduler: Broadcasting large task binary with size 18.7 MiB\n",
      "24/05/09 11:42:07 WARN DAGScheduler: Broadcasting large task binary with size 18.7 MiB\n",
      "24/05/09 11:42:08 WARN DAGScheduler: Broadcasting large task binary with size 18.7 MiB\n",
      "24/05/09 11:42:10 WARN DAGScheduler: Broadcasting large task binary with size 18.7 MiB\n",
      "24/05/09 11:42:12 WARN DAGScheduler: Broadcasting large task binary with size 18.7 MiB\n",
      "24/05/09 11:42:14 WARN DAGScheduler: Broadcasting large task binary with size 18.7 MiB\n",
      "24/05/09 11:42:16 WARN DAGScheduler: Broadcasting large task binary with size 18.7 MiB\n",
      "24/05/09 11:42:17 WARN DAGScheduler: Broadcasting large task binary with size 18.7 MiB\n",
      "24/05/09 11:42:19 WARN DAGScheduler: Broadcasting large task binary with size 18.7 MiB\n",
      "24/05/09 11:42:21 WARN DAGScheduler: Broadcasting large task binary with size 18.7 MiB\n",
      "24/05/09 11:42:23 WARN DAGScheduler: Broadcasting large task binary with size 18.7 MiB\n",
      "24/05/09 11:42:24 WARN DAGScheduler: Broadcasting large task binary with size 18.7 MiB\n",
      "24/05/09 11:42:26 WARN DAGScheduler: Broadcasting large task binary with size 18.7 MiB\n",
      "24/05/09 11:42:28 WARN DAGScheduler: Broadcasting large task binary with size 18.7 MiB\n",
      "24/05/09 11:42:30 WARN DAGScheduler: Broadcasting large task binary with size 18.7 MiB\n",
      "24/05/09 11:42:31 WARN DAGScheduler: Broadcasting large task binary with size 18.7 MiB\n",
      "24/05/09 11:42:33 WARN DAGScheduler: Broadcasting large task binary with size 18.7 MiB\n",
      "24/05/09 11:42:35 WARN DAGScheduler: Broadcasting large task binary with size 18.7 MiB\n",
      "24/05/09 11:42:37 WARN DAGScheduler: Broadcasting large task binary with size 18.7 MiB\n",
      "24/05/09 11:42:38 WARN DAGScheduler: Broadcasting large task binary with size 18.7 MiB\n",
      "24/05/09 11:42:40 WARN DAGScheduler: Broadcasting large task binary with size 18.7 MiB\n",
      "24/05/09 11:42:42 WARN DAGScheduler: Broadcasting large task binary with size 18.7 MiB\n",
      "24/05/09 11:42:44 WARN DAGScheduler: Broadcasting large task binary with size 18.7 MiB\n",
      "24/05/09 11:42:45 WARN DAGScheduler: Broadcasting large task binary with size 18.7 MiB\n",
      "24/05/09 11:42:47 WARN DAGScheduler: Broadcasting large task binary with size 18.7 MiB\n",
      "24/05/09 11:42:49 WARN DAGScheduler: Broadcasting large task binary with size 18.7 MiB\n",
      "24/05/09 11:42:51 WARN DAGScheduler: Broadcasting large task binary with size 18.7 MiB\n",
      "24/05/09 11:42:52 WARN DAGScheduler: Broadcasting large task binary with size 18.7 MiB\n",
      "24/05/09 11:42:54 WARN DAGScheduler: Broadcasting large task binary with size 18.7 MiB\n",
      "24/05/09 11:42:56 WARN DAGScheduler: Broadcasting large task binary with size 18.7 MiB\n",
      "24/05/09 11:42:58 WARN DAGScheduler: Broadcasting large task binary with size 18.7 MiB\n",
      "24/05/09 11:43:00 WARN DAGScheduler: Broadcasting large task binary with size 18.7 MiB\n",
      "24/05/09 11:43:01 WARN DAGScheduler: Broadcasting large task binary with size 18.7 MiB\n",
      "24/05/09 11:43:03 WARN DAGScheduler: Broadcasting large task binary with size 18.7 MiB\n",
      "24/05/09 11:43:05 WARN DAGScheduler: Broadcasting large task binary with size 18.7 MiB\n",
      "24/05/09 11:43:07 WARN DAGScheduler: Broadcasting large task binary with size 18.7 MiB\n",
      "24/05/09 11:43:09 WARN DAGScheduler: Broadcasting large task binary with size 18.7 MiB\n",
      "24/05/09 11:43:11 WARN DAGScheduler: Broadcasting large task binary with size 18.7 MiB\n",
      "24/05/09 11:43:12 WARN DAGScheduler: Broadcasting large task binary with size 18.7 MiB\n",
      "24/05/09 11:43:14 WARN DAGScheduler: Broadcasting large task binary with size 18.7 MiB\n",
      "24/05/09 11:43:16 WARN DAGScheduler: Broadcasting large task binary with size 18.7 MiB\n",
      "24/05/09 11:43:18 WARN DAGScheduler: Broadcasting large task binary with size 18.7 MiB\n",
      "24/05/09 11:43:19 WARN DAGScheduler: Broadcasting large task binary with size 18.7 MiB\n",
      "24/05/09 11:43:21 WARN DAGScheduler: Broadcasting large task binary with size 18.7 MiB\n",
      "24/05/09 11:43:23 WARN DAGScheduler: Broadcasting large task binary with size 18.7 MiB\n",
      "24/05/09 11:43:25 WARN DAGScheduler: Broadcasting large task binary with size 18.7 MiB\n",
      "24/05/09 11:43:26 WARN DAGScheduler: Broadcasting large task binary with size 18.7 MiB\n",
      "24/05/09 11:43:28 WARN DAGScheduler: Broadcasting large task binary with size 18.7 MiB\n",
      "24/05/09 11:43:30 WARN DAGScheduler: Broadcasting large task binary with size 18.7 MiB\n",
      "24/05/09 11:43:32 WARN DAGScheduler: Broadcasting large task binary with size 18.7 MiB\n",
      "24/05/09 11:43:34 WARN DAGScheduler: Broadcasting large task binary with size 18.7 MiB\n",
      "24/05/09 11:43:36 WARN DAGScheduler: Broadcasting large task binary with size 18.7 MiB\n",
      "24/05/09 11:43:37 WARN DAGScheduler: Broadcasting large task binary with size 18.7 MiB\n",
      "24/05/09 11:43:39 WARN DAGScheduler: Broadcasting large task binary with size 18.7 MiB\n",
      "24/05/09 11:43:41 WARN DAGScheduler: Broadcasting large task binary with size 18.7 MiB\n",
      "24/05/09 11:43:43 WARN DAGScheduler: Broadcasting large task binary with size 18.7 MiB\n",
      "24/05/09 11:43:45 WARN DAGScheduler: Broadcasting large task binary with size 18.7 MiB\n",
      "24/05/09 11:43:47 WARN DAGScheduler: Broadcasting large task binary with size 18.7 MiB\n",
      "24/05/09 11:43:48 WARN DAGScheduler: Broadcasting large task binary with size 18.7 MiB\n",
      "24/05/09 11:43:50 WARN DAGScheduler: Broadcasting large task binary with size 18.7 MiB\n",
      "24/05/09 11:43:52 WARN DAGScheduler: Broadcasting large task binary with size 18.7 MiB\n",
      "24/05/09 11:43:54 WARN DAGScheduler: Broadcasting large task binary with size 18.7 MiB\n",
      "24/05/09 11:43:56 WARN DAGScheduler: Broadcasting large task binary with size 18.7 MiB\n",
      "24/05/09 11:43:57 WARN DAGScheduler: Broadcasting large task binary with size 18.7 MiB\n",
      "24/05/09 11:43:59 WARN DAGScheduler: Broadcasting large task binary with size 18.7 MiB\n",
      "24/05/09 11:44:01 WARN DAGScheduler: Broadcasting large task binary with size 18.7 MiB\n",
      "24/05/09 11:44:02 WARN DAGScheduler: Broadcasting large task binary with size 18.7 MiB\n",
      "24/05/09 11:44:04 WARN DAGScheduler: Broadcasting large task binary with size 18.7 MiB\n",
      "24/05/09 11:44:06 WARN DAGScheduler: Broadcasting large task binary with size 18.7 MiB\n",
      "24/05/09 11:44:08 WARN DAGScheduler: Broadcasting large task binary with size 18.7 MiB\n",
      "24/05/09 11:44:09 WARN DAGScheduler: Broadcasting large task binary with size 18.7 MiB\n",
      "24/05/09 11:44:11 WARN DAGScheduler: Broadcasting large task binary with size 18.7 MiB\n",
      "24/05/09 11:44:13 WARN DAGScheduler: Broadcasting large task binary with size 18.7 MiB\n",
      "24/05/09 11:44:14 WARN DAGScheduler: Broadcasting large task binary with size 18.7 MiB\n",
      "24/05/09 11:44:16 WARN DAGScheduler: Broadcasting large task binary with size 18.7 MiB\n",
      "24/05/09 11:44:18 WARN DAGScheduler: Broadcasting large task binary with size 18.7 MiB\n",
      "24/05/09 11:44:19 WARN DAGScheduler: Broadcasting large task binary with size 18.7 MiB\n",
      "24/05/09 11:44:21 WARN DAGScheduler: Broadcasting large task binary with size 18.7 MiB\n",
      "24/05/09 11:44:23 WARN DAGScheduler: Broadcasting large task binary with size 18.7 MiB\n",
      "24/05/09 11:44:24 WARN DAGScheduler: Broadcasting large task binary with size 18.7 MiB\n",
      "24/05/09 11:44:26 WARN DAGScheduler: Broadcasting large task binary with size 18.7 MiB\n",
      "24/05/09 11:44:28 WARN DAGScheduler: Broadcasting large task binary with size 18.7 MiB\n",
      "24/05/09 11:44:30 WARN DAGScheduler: Broadcasting large task binary with size 18.7 MiB\n",
      "24/05/09 11:44:31 WARN DAGScheduler: Broadcasting large task binary with size 18.7 MiB\n",
      "24/05/09 11:44:33 WARN DAGScheduler: Broadcasting large task binary with size 18.7 MiB\n",
      "24/05/09 11:44:35 WARN DAGScheduler: Broadcasting large task binary with size 18.7 MiB\n",
      "24/05/09 11:44:36 WARN DAGScheduler: Broadcasting large task binary with size 18.7 MiB\n",
      "24/05/09 11:44:38 WARN DAGScheduler: Broadcasting large task binary with size 18.7 MiB\n",
      "24/05/09 11:44:40 WARN DAGScheduler: Broadcasting large task binary with size 18.7 MiB\n",
      "                                                                                \r"
     ]
    }
   ],
   "source": [
    "# Entraînement de la pipeline\n",
    "pipeline_model = pipeline.fit(train_data)"
   ]
  },
  {
   "cell_type": "code",
   "execution_count": 13,
   "id": "c89812f3-abeb-456d-840e-e5009107d55b",
   "metadata": {},
   "outputs": [],
   "source": [
    "# Prédiction sur les données de test\n",
    "predictions = pipeline_model.transform(test_data)"
   ]
  },
  {
   "cell_type": "code",
   "execution_count": null,
   "id": "1b08fd8d-12b0-4ba3-8d8c-b3f47fd912bb",
   "metadata": {},
   "outputs": [],
   "source": []
  },
  {
   "cell_type": "code",
   "execution_count": 14,
   "id": "aa75fce7-dc70-4515-81af-6b54f5db046f",
   "metadata": {},
   "outputs": [
    {
     "name": "stderr",
     "output_type": "stream",
     "text": [
      "24/05/09 11:44:44 WARN DAGScheduler: Broadcasting large task binary with size 21.4 MiB\n",
      "24/05/09 11:44:45 WARN CSVHeaderChecker: CSV header does not conform to the schema.\n",
      " Header: 2401, Borderlands, Positive, im getting on borderlands and i will murder you all ,\n",
      " Schema: Tweet ID, Entity, Sentiment, Tweet content\n",
      "Expected: Tweet ID but found: 2401\n",
      "CSV file: file:///home/unamed/Projects/MST/bigData/twitter_training.csv\n",
      "[Stage 112:===================>                                     (1 + 2) / 3]\r"
     ]
    },
    {
     "name": "stdout",
     "output_type": "stream",
     "text": [
      "Accuracy of Logistic Regression model: 0.8267346664877198\n"
     ]
    },
    {
     "name": "stderr",
     "output_type": "stream",
     "text": [
      "                                                                                \r"
     ]
    }
   ],
   "source": [
    "# Évaluation du modèle\n",
    "evaluator = MulticlassClassificationEvaluator(predictionCol=\"prediction\", labelCol=\"label\", metricName=\"accuracy\")\n",
    "accuracy = evaluator.evaluate(predictions)\n",
    "print(\"Accuracy of Logistic Regression model:\", accuracy)"
   ]
  },
  {
   "cell_type": "code",
   "execution_count": 15,
   "id": "a8b3cacc-24ad-4670-8605-ca631ac36b5f",
   "metadata": {},
   "outputs": [
    {
     "name": "stdout",
     "output_type": "stream",
     "text": [
      "['Tweet ID', 'Entity', 'Sentiment', 'Tweet content', 'words', 'filtered_words', 'raw_features', 'features', 'label', 'final_features', 'rawPrediction', 'probability', 'prediction']\n"
     ]
    }
   ],
   "source": [
    "print(predictions.columns)\n"
   ]
  },
  {
   "cell_type": "code",
   "execution_count": 22,
   "id": "0553e09e-f9d8-4bb8-a9a1-c4506abdca81",
   "metadata": {},
   "outputs": [
    {
     "name": "stderr",
     "output_type": "stream",
     "text": [
      "24/05/09 12:09:51 WARN TaskSetManager: Stage 136 contains a task of very large size (4187 KiB). The maximum recommended task size is 1000 KiB.\n",
      "24/05/09 12:09:52 WARN TaskSetManager: Stage 145 contains a task of very large size (2785 KiB). The maximum recommended task size is 1000 KiB.\n"
     ]
    }
   ],
   "source": [
    "pipeline_model.save('pipeline_model')"
   ]
  },
  {
   "cell_type": "code",
   "execution_count": 2,
   "id": "83e68d39-0bf4-4f36-9320-c21891d7d027",
   "metadata": {},
   "outputs": [],
   "source": [
    "from pyspark.ml import PipelineModel\n",
    "model = PipelineModel.load('pipeline_model/')"
   ]
  },
  {
   "cell_type": "code",
   "execution_count": 4,
   "id": "991bf15b-f973-4b82-b102-989660ba4d3f",
   "metadata": {},
   "outputs": [
    {
     "name": "stdout",
     "output_type": "stream",
     "text": [
      "Requirement already satisfied: pyspark in /home/unamed/.conda/envs/myenv/lib/python3.11/site-packages (3.5.1)\n",
      "Requirement already satisfied: py4j==0.10.9.7 in /home/unamed/.conda/envs/myenv/lib/python3.11/site-packages (from pyspark) (0.10.9.7)\n",
      "Note: you may need to restart the kernel to use updated packages.\n"
     ]
    }
   ],
   "source": []
  },
  {
   "cell_type": "code",
   "execution_count": null,
   "id": "a853fd2a-5b59-4c4d-a632-7ef657b63d55",
   "metadata": {},
   "outputs": [],
   "source": []
  }
 ],
 "metadata": {
  "kernelspec": {
   "display_name": "Python 3 (ipykernel)",
   "language": "python",
   "name": "python3"
  },
  "language_info": {
   "codemirror_mode": {
    "name": "ipython",
    "version": 3
   },
   "file_extension": ".py",
   "mimetype": "text/x-python",
   "name": "python",
   "nbconvert_exporter": "python",
   "pygments_lexer": "ipython3",
   "version": "3.11.9"
  }
 },
 "nbformat": 4,
 "nbformat_minor": 5
}
