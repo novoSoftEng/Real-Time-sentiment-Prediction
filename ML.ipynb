{
 "cells": [
  {
   "cell_type": "code",
   "execution_count": 1,
   "id": "e67aab6c-205a-404e-92fb-62e4539016de",
   "metadata": {},
   "outputs": [],
   "source": [
    "from pyspark.ml.feature import VectorAssembler\n",
    "from pyspark.ml.classification import LogisticRegression\n",
    "from pyspark.sql import SparkSession\n",
    "from kafka import KafkaConsumer\n",
    "import json"
   ]
  },
  {
   "cell_type": "code",
   "execution_count": null,
   "id": "0058b022-5a4c-4c93-aad0-1b0164b1c5e1",
   "metadata": {},
   "outputs": [],
   "source": [
    "# Initialize Kafka consumer\n",
    "consumer = KafkaConsumer(\"twitter\", bootstrap_servers=[\"localhost:9092\"])\n",
    "\n",
    "# Initialize Spark session\n",
    "spark = SparkSession.builder.appName(\"Continuous Online Learning\").getOrCreate()\n",
    "\n",
    "# Define features and target\n",
    "vectorAssembler = VectorAssembler(inputCols=[\"feature1\", \"feature2\", ...], outputCol=\"features\")\n",
    "\n",
    "# Define logistic regression model\n",
    "lr = LogisticRegression(featuresCol=\"features\", labelCol=\"target\")\n",
    "\n",
    "# Initialize model weights (if not already trained)\n",
    "model = lr.fit(spark.createDataFrame([]))\n",
    "\n",
    "# Continuous Online Learning\n",
    "for msg in consumer:\n",
    "    data = json.loads(msg.value.decode(\"utf-8\"))\n",
    "    \n",
    "    # Convert data to Spark DataFrame\n",
    "    df = spark.createDataFrame([data])\n",
    "    \n",
    "    # Preprocess data and extract features\n",
    "    df = vectorAssembler.transform(df)\n",
    "    \n",
    "    # Update model with new data point\n",
    "    model = model.fit(df)\n"
   ]
  }
 ],
 "metadata": {
  "kernelspec": {
   "display_name": "Python 3 (ipykernel)",
   "language": "python",
   "name": "python3"
  },
  "language_info": {
   "codemirror_mode": {
    "name": "ipython",
    "version": 3
   },
   "file_extension": ".py",
   "mimetype": "text/x-python",
   "name": "python",
   "nbconvert_exporter": "python",
   "pygments_lexer": "ipython3",
   "version": "3.11.8"
  }
 },
 "nbformat": 4,
 "nbformat_minor": 5
}
