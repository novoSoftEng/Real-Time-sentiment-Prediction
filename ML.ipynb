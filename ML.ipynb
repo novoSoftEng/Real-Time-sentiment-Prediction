{
 "cells": [
  {
   "cell_type": "code",
   "execution_count": null,
   "id": "e67aab6c-205a-404e-92fb-62e4539016de",
   "metadata": {},
   "outputs": [],
   "source": [
    "\n",
    "from pymongo import MongoClient"
   ]
  },
  {
   "cell_type": "code",
   "execution_count": null,
   "id": "0058b022-5a4c-4c93-aad0-1b0164b1c5e1",
   "metadata": {},
   "outputs": [],
   "source": []
  }
 ],
 "metadata": {
  "kernelspec": {
   "display_name": "Python 3 (ipykernel)",
   "language": "python",
   "name": "python3"
  },
  "language_info": {
   "codemirror_mode": {
    "name": "ipython",
    "version": 3
   },
   "file_extension": ".py",
   "mimetype": "text/x-python",
   "name": "python",
   "nbconvert_exporter": "python",
   "pygments_lexer": "ipython3",
   "version": "3.11.9"
  }
 },
 "nbformat": 4,
 "nbformat_minor": 5
}
